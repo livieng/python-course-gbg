{
 "cells": [
  {
   "cell_type": "markdown",
   "metadata": {},
   "source": [
    "## Naive Bayes classification\n",
    "This is an example"
   ]
  },
  {
   "cell_type": "code",
   "execution_count": 1,
   "metadata": {},
   "outputs": [],
   "source": [
    "# load the data\n",
    "import pandas as pd\n",
    "\n",
    "# clean the data\n",
    "import numpy as np\n",
    "from collections import Counter\n",
    "\n",
    "# baseline classifier\n",
    "from sklearn.dummy import DummyClassifier\n",
    "# naive bayes classifier\n",
    "from sklearn.naive_bayes import MultinomialNB\n",
    "\n",
    "# for converting training and test datasets into matrices\n",
    "# TfidfVectorizer does this specifically for documents\n",
    "from sklearn.feature_extraction.text import TfidfVectorizer\n",
    "\n",
    "# for splitting the dataset into training and test sets\n",
    "from sklearn.model_selection import train_test_split\n",
    "\n",
    "# for evaluating the quality of the classifier\n",
    "from sklearn.metrics import accuracy_score\n",
    "from sklearn.metrics import confusion_matrix\n",
    "\n",
    "# for plotting\n",
    "import matplotlib.pyplot as plt\n",
    "import seaborn as sns"
   ]
  },
  {
   "cell_type": "code",
   "execution_count": 22,
   "metadata": {},
   "outputs": [
    {
     "data": {
      "text/html": [
       "<div>\n",
       "<style scoped>\n",
       "    .dataframe tbody tr th:only-of-type {\n",
       "        vertical-align: middle;\n",
       "    }\n",
       "\n",
       "    .dataframe tbody tr th {\n",
       "        vertical-align: top;\n",
       "    }\n",
       "\n",
       "    .dataframe thead th {\n",
       "        text-align: right;\n",
       "    }\n",
       "</style>\n",
       "<table border=\"1\" class=\"dataframe\">\n",
       "  <thead>\n",
       "    <tr style=\"text-align: right;\">\n",
       "      <th></th>\n",
       "      <th>Annotation</th>\n",
       "      <th>Comment</th>\n",
       "    </tr>\n",
       "  </thead>\n",
       "  <tbody>\n",
       "    <tr>\n",
       "      <th>0</th>\n",
       "      <td>1/1</td>\n",
       "      <td>... people who have NEVER voted... sneaky way ...</td>\n",
       "    </tr>\n",
       "    <tr>\n",
       "      <th>1</th>\n",
       "      <td>0/0</td>\n",
       "      <td>Being a member of the European Union is a bit ...</td>\n",
       "    </tr>\n",
       "    <tr>\n",
       "      <th>2</th>\n",
       "      <td>0/0</td>\n",
       "      <td>Brexit is bad. Immigrants make Britain great. ...</td>\n",
       "    </tr>\n",
       "    <tr>\n",
       "      <th>3</th>\n",
       "      <td>0/0</td>\n",
       "      <td>Britain is basically Pompeii if the Pompeii ha...</td>\n",
       "    </tr>\n",
       "    <tr>\n",
       "      <th>4</th>\n",
       "      <td>1/1</td>\n",
       "      <td>Britain's exit is a huge blow to the dream of ...</td>\n",
       "    </tr>\n",
       "    <tr>\n",
       "      <th>5</th>\n",
       "      <td>1/-1</td>\n",
       "      <td>Bye, Bye EU, Bye, Bye...Fireworks are going of...</td>\n",
       "    </tr>\n",
       "    <tr>\n",
       "      <th>6</th>\n",
       "      <td>0/-1</td>\n",
       "      <td>Could make prices up? Of course it will! Get r...</td>\n",
       "    </tr>\n",
       "    <tr>\n",
       "      <th>7</th>\n",
       "      <td>1/1</td>\n",
       "      <td>Death to the EU, Death to the EU!</td>\n",
       "    </tr>\n",
       "    <tr>\n",
       "      <th>8</th>\n",
       "      <td>1/1</td>\n",
       "      <td>Europe Union 'lost' Britain. is more accurate....</td>\n",
       "    </tr>\n",
       "    <tr>\n",
       "      <th>9</th>\n",
       "      <td>1</td>\n",
       "      <td>European Union after 47 years of membership - ...</td>\n",
       "    </tr>\n",
       "    <tr>\n",
       "      <th>10</th>\n",
       "      <td>1/1</td>\n",
       "      <td>Europe’s nations should be guided towards the ...</td>\n",
       "    </tr>\n",
       "    <tr>\n",
       "      <th>11</th>\n",
       "      <td>1/-1</td>\n",
       "      <td>Fell on his sword? Cameron could retire tomorr...</td>\n",
       "    </tr>\n",
       "    <tr>\n",
       "      <th>12</th>\n",
       "      <td>0/-1</td>\n",
       "      <td>Finally the EU won't make our rules Interviewe...</td>\n",
       "    </tr>\n",
       "    <tr>\n",
       "      <th>13</th>\n",
       "      <td>0/0/-1</td>\n",
       "      <td>Getting Brexit Done. Strange logic, it's a bit...</td>\n",
       "    </tr>\n",
       "    <tr>\n",
       "      <th>14</th>\n",
       "      <td>1/0</td>\n",
       "      <td>Great Britain has pissed their own pants. They...</td>\n",
       "    </tr>\n",
       "    <tr>\n",
       "      <th>15</th>\n",
       "      <td>1/1</td>\n",
       "      <td>How Britain lost Europe  Thats a fairly provoc...</td>\n",
       "    </tr>\n",
       "    <tr>\n",
       "      <th>16</th>\n",
       "      <td>0/0</td>\n",
       "      <td>I deal with tough mathematical questions every...</td>\n",
       "    </tr>\n",
       "    <tr>\n",
       "      <th>17</th>\n",
       "      <td>0/0</td>\n",
       "      <td>I don’t think we should have voted. I can bare...</td>\n",
       "    </tr>\n",
       "    <tr>\n",
       "      <th>18</th>\n",
       "      <td>0/0</td>\n",
       "      <td>I know #Brexit's a huge fucking mistake but my...</td>\n",
       "    </tr>\n",
       "    <tr>\n",
       "      <th>19</th>\n",
       "      <td>1/1</td>\n",
       "      <td>I think it's a great move...to be in control o...</td>\n",
       "    </tr>\n",
       "  </tbody>\n",
       "</table>\n",
       "</div>"
      ],
      "text/plain": [
       "   Annotation                                            Comment\n",
       "0         1/1  ... people who have NEVER voted... sneaky way ...\n",
       "1         0/0  Being a member of the European Union is a bit ...\n",
       "2         0/0  Brexit is bad. Immigrants make Britain great. ...\n",
       "3         0/0  Britain is basically Pompeii if the Pompeii ha...\n",
       "4         1/1  Britain's exit is a huge blow to the dream of ...\n",
       "5        1/-1  Bye, Bye EU, Bye, Bye...Fireworks are going of...\n",
       "6        0/-1  Could make prices up? Of course it will! Get r...\n",
       "7         1/1                  Death to the EU, Death to the EU!\n",
       "8         1/1  Europe Union 'lost' Britain. is more accurate....\n",
       "9           1  European Union after 47 years of membership - ...\n",
       "10        1/1  Europe’s nations should be guided towards the ...\n",
       "11       1/-1  Fell on his sword? Cameron could retire tomorr...\n",
       "12       0/-1  Finally the EU won't make our rules Interviewe...\n",
       "13     0/0/-1  Getting Brexit Done. Strange logic, it's a bit...\n",
       "14        1/0  Great Britain has pissed their own pants. They...\n",
       "15        1/1  How Britain lost Europe  Thats a fairly provoc...\n",
       "16        0/0  I deal with tough mathematical questions every...\n",
       "17        0/0  I don’t think we should have voted. I can bare...\n",
       "18        0/0  I know #Brexit's a huge fucking mistake but my...\n",
       "19        1/1  I think it's a great move...to be in control o..."
      ]
     },
     "execution_count": 22,
     "metadata": {},
     "output_type": "execute_result"
    }
   ],
   "source": [
    "# the training data (final set 13,520 instances))\n",
    "df_f = pd.read_csv('a2a_train_final.tsv', sep = '\\t', header=None, names=['Annotation', 'Comment'])\n",
    "df_f.head(20)"
   ]
  },
  {
   "cell_type": "code",
   "execution_count": 3,
   "metadata": {},
   "outputs": [
    {
     "data": {
      "text/plain": [
       "0    ... people who have NEVER voted... sneaky way ...\n",
       "1    Being a member of the European Union is a bit ...\n",
       "2    Brexit is bad. Immigrants make Britain great. ...\n",
       "3    Britain is basically Pompeii if the Pompeii ha...\n",
       "4    Britain's exit is a huge blow to the dream of ...\n",
       "Name: Comment, dtype: object"
      ]
     },
     "execution_count": 3,
     "metadata": {},
     "output_type": "execute_result"
    }
   ],
   "source": [
    "X = df_f[\"Comment\"]\n",
    "X.head()"
   ]
  },
  {
   "cell_type": "code",
   "execution_count": 4,
   "metadata": {},
   "outputs": [
    {
     "data": {
      "text/plain": [
       "['1', '0', '0', '0', '1', '1', '0', '1', '1', '1']"
      ]
     },
     "execution_count": 4,
     "metadata": {},
     "output_type": "execute_result"
    }
   ],
   "source": [
    "score = df_f[\"Annotation\"]\n",
    "Y = []\n",
    "for sc in score:\n",
    "    Y.append(sc.split(\"/\")[0])\n",
    "    \n",
    "Y[:10]"
   ]
  },
  {
   "cell_type": "code",
   "execution_count": 5,
   "metadata": {},
   "outputs": [],
   "source": [
    "X_train, X_eval, Y_train, Y_eval = train_test_split(X, Y,\n",
    "                                                    test_size = 0.2,\n",
    "                                                    random_state=12345)\n",
    "dv1 = TfidfVectorizer()\n",
    "X_train_trans = dv1.fit_transform(X_train)\n",
    "X_eval_trans = dv1.transform(X_eval)"
   ]
  },
  {
   "cell_type": "code",
   "execution_count": 6,
   "metadata": {},
   "outputs": [],
   "source": [
    "def train_dummy(X, Y, X_eval_trans):\n",
    "    clf = DummyClassifier()\n",
    "    clf.fit(X,Y)\n",
    "    training_score = clf.score(X, Y)\n",
    "    dummy_pred = clf.predict(X_eval_trans)\n",
    "    return training_score, dummy_pred"
   ]
  },
  {
   "cell_type": "code",
   "execution_count": 7,
   "metadata": {},
   "outputs": [],
   "source": [
    "def train_NB(X, Y, X_eval_trans):\n",
    "    clf = MultinomialNB()\n",
    "    clf.fit(X,Y)\n",
    "    training_score = clf.score(X, Y)\n",
    "    nb_pred = clf.predict(X_eval_trans)\n",
    "    return training_score, nb_pred"
   ]
  },
  {
   "cell_type": "code",
   "execution_count": 8,
   "metadata": {},
   "outputs": [
    {
     "name": "stdout",
     "output_type": "stream",
     "text": [
      "Training scores: \n",
      "Dummy training score is 0.500601128271525\n",
      "Naive Bayes training score is 0.8740405067973736\n"
     ]
    }
   ],
   "source": [
    "print(\"Training scores: \")\n",
    "dummy_training_score, dummy_pred = train_dummy(X_train_trans,Y_train, X_eval_trans)\n",
    "print(\"Dummy training score is \" + str(dummy_training_score))\n",
    "NB_training_score, NB_pred = train_NB(X_train_trans,Y_train, X_eval_trans)\n",
    "print(\"Naive Bayes training score is \" + str(NB_training_score))"
   ]
  },
  {
   "cell_type": "code",
   "execution_count": 9,
   "metadata": {
    "scrolled": true
   },
   "outputs": [
    {
     "name": "stdout",
     "output_type": "stream",
     "text": [
      "Accuracy scores: \n",
      "     |  true  |  false \n",
      "----------------------\n",
      "dummy| 0.5111 | 0.4889\n",
      "  NB | 0.7530 | 0.2470\n"
     ]
    }
   ],
   "source": [
    "print(\"Accuracy scores: \")\n",
    "    \n",
    "dummy_acc = accuracy_score(Y_eval, dummy_pred)\n",
    "NB_acc = accuracy_score(Y_eval, NB_pred)\n",
    "print('     |  true  |  false ')\n",
    "print('----------------------')\n",
    "print('dummy| {:.4f} | {:.4f}'.format(dummy_acc, (1-dummy_acc)))\n",
    "print('  NB | {:.4f} | {:.4f}'.format(NB_acc, (1-NB_acc)))"
   ]
  },
  {
   "cell_type": "code",
   "execution_count": 10,
   "metadata": {},
   "outputs": [
    {
     "name": "stdout",
     "output_type": "stream",
     "text": [
      "Confusion matrix: \n",
      "Naive Bayes: \n",
      "[[ 937  394]\n",
      " [ 274 1099]]\n"
     ]
    }
   ],
   "source": [
    "print(\"Confusion matrix: \")\n",
    "print(\"Naive Bayes: \")\n",
    "print(confusion_matrix(Y_eval, NB_pred))"
   ]
  },
  {
   "cell_type": "markdown",
   "metadata": {},
   "source": [
    "## Regression"
   ]
  },
  {
   "cell_type": "code",
   "execution_count": 11,
   "metadata": {},
   "outputs": [],
   "source": [
    "def success(p_success):\n",
    "    return np.random.binomial(1,p_success)"
   ]
  },
  {
   "cell_type": "code",
   "execution_count": 24,
   "metadata": {},
   "outputs": [],
   "source": [
    "def makeVillager():\n",
    "    woman = success(0.6) # 1 is true, 0 is false\n",
    "    if woman == True:\n",
    "        meanHeight = 195\n",
    "        sdHeight = 10\n",
    "        meanWeight = 70\n",
    "        sdWeight = 5\n",
    "    else:\n",
    "        meanHeight = 140\n",
    "        sdHeight = 15\n",
    "        meanWeight = 90\n",
    "        sdWeight = 10\n",
    "\n",
    "    height = np.random.normal(meanHeight, sdHeight)\n",
    "    weight = np.random.normal(meanWeight, sdWeight)\n",
    "\n",
    "    return [height, weight, woman]"
   ]
  },
  {
   "cell_type": "code",
   "execution_count": 25,
   "metadata": {},
   "outputs": [
    {
     "name": "stdout",
     "output_type": "stream",
     "text": [
      "       height     weight  gender\n",
      "0  158.175652  90.063883       0\n",
      "1  202.714946  76.847366       1\n",
      "2  187.075634  78.884596       1\n",
      "3  215.148727  71.443376       1\n",
      "4   97.717713  99.861054       0\n"
     ]
    },
    {
     "data": {
      "image/png": "[encoded data removed]",
      "text/plain": [
       "<Figure size 432x288 with 1 Axes>"
      ]
     },
     "metadata": {
      "needs_background": "light"
     },
     "output_type": "display_data"
    }
   ],
   "source": [
    "village = pd.DataFrame([makeVillager() for _ in range(50)], columns=[\"height\", \"weight\", \"gender\"])\n",
    "print(village.head())\n",
    "plt.scatter(village.weight, village.height)\n",
    "plt.show()"
   ]
  },
  {
   "cell_type": "code",
   "execution_count": 26,
   "metadata": {},
   "outputs": [
    {
     "data": {
      "text/html": [
       "<div>\n",
       "<style scoped>\n",
       "    .dataframe tbody tr th:only-of-type {\n",
       "        vertical-align: middle;\n",
       "    }\n",
       "\n",
       "    .dataframe tbody tr th {\n",
       "        vertical-align: top;\n",
       "    }\n",
       "\n",
       "    .dataframe thead th {\n",
       "        text-align: right;\n",
       "    }\n",
       "</style>\n",
       "<table border=\"1\" class=\"dataframe\">\n",
       "  <thead>\n",
       "    <tr style=\"text-align: right;\">\n",
       "      <th></th>\n",
       "      <th>height</th>\n",
       "      <th>weight</th>\n",
       "      <th>Intercept</th>\n",
       "      <th>gender</th>\n",
       "    </tr>\n",
       "  </thead>\n",
       "  <tbody>\n",
       "    <tr>\n",
       "      <th>0</th>\n",
       "      <td>158.175652</td>\n",
       "      <td>90.063883</td>\n",
       "      <td>1</td>\n",
       "      <td>0</td>\n",
       "    </tr>\n",
       "    <tr>\n",
       "      <th>1</th>\n",
       "      <td>202.714946</td>\n",
       "      <td>76.847366</td>\n",
       "      <td>1</td>\n",
       "      <td>1</td>\n",
       "    </tr>\n",
       "    <tr>\n",
       "      <th>2</th>\n",
       "      <td>187.075634</td>\n",
       "      <td>78.884596</td>\n",
       "      <td>1</td>\n",
       "      <td>1</td>\n",
       "    </tr>\n",
       "    <tr>\n",
       "      <th>3</th>\n",
       "      <td>215.148727</td>\n",
       "      <td>71.443376</td>\n",
       "      <td>1</td>\n",
       "      <td>1</td>\n",
       "    </tr>\n",
       "    <tr>\n",
       "      <th>4</th>\n",
       "      <td>97.717713</td>\n",
       "      <td>99.861054</td>\n",
       "      <td>1</td>\n",
       "      <td>0</td>\n",
       "    </tr>\n",
       "  </tbody>\n",
       "</table>\n",
       "</div>"
      ],
      "text/plain": [
       "       height     weight  Intercept  gender\n",
       "0  158.175652  90.063883          1       0\n",
       "1  202.714946  76.847366          1       1\n",
       "2  187.075634  78.884596          1       1\n",
       "3  215.148727  71.443376          1       1\n",
       "4   97.717713  99.861054          1       0"
      ]
     },
     "execution_count": 26,
     "metadata": {},
     "output_type": "execute_result"
    }
   ],
   "source": [
    "village.insert(2, \"Intercept\", 1, True)\n",
    "village.head()"
   ]
  },
  {
   "cell_type": "code",
   "execution_count": 27,
   "metadata": {},
   "outputs": [],
   "source": [
    "Xp  = village[[\"Intercept\",\"height\"]].to_numpy()\n",
    "Yp  = village[\"weight\"].to_numpy()\n",
    "Xpt = Xp.transpose()"
   ]
  },
  {
   "cell_type": "code",
   "execution_count": 28,
   "metadata": {},
   "outputs": [
    {
     "data": {
      "text/plain": [
       "array([[  1.        ,   1.        ,   1.        ,   1.        ,\n",
       "          1.        ],\n",
       "       [158.17565246, 202.7149456 , 187.07563413, 215.14872685,\n",
       "         97.71771285]])"
      ]
     },
     "execution_count": 28,
     "metadata": {},
     "output_type": "execute_result"
    }
   ],
   "source": [
    "Xpt[:2,:5]"
   ]
  },
  {
   "cell_type": "code",
   "execution_count": 29,
   "metadata": {},
   "outputs": [
    {
     "data": {
      "text/plain": [
       "array([90.06388289, 76.84736615, 78.88459617, 71.44337613, 99.86105388])"
      ]
     },
     "execution_count": 29,
     "metadata": {},
     "output_type": "execute_result"
    }
   ],
   "source": [
    "Yp[:5]"
   ]
  },
  {
   "cell_type": "code",
   "execution_count": 30,
   "metadata": {},
   "outputs": [
    {
     "data": {
      "text/plain": [
       "array([130.67715686,  -0.29668572])"
      ]
     },
     "execution_count": 30,
     "metadata": {},
     "output_type": "execute_result"
    }
   ],
   "source": [
    "a = np.matmul(np.linalg.inv(np.matmul(Xpt,Xp)),np.matmul(Xpt,Yp))\n",
    "a"
   ]
  },
  {
   "cell_type": "code",
   "execution_count": 31,
   "metadata": {},
   "outputs": [],
   "source": [
    "pred_y = []\n",
    "for r in Xp:\n",
    "    pred_y.append(a.dot(r))   "
   ]
  },
  {
   "cell_type": "code",
   "execution_count": 32,
   "metadata": {},
   "outputs": [
    {
     "data": {
      "text/plain": [
       "[<matplotlib.lines.Line2D at 0x7fb0daf6b358>]"
      ]
     },
     "execution_count": 32,
     "metadata": {},
     "output_type": "execute_result"
    },
    {
     "data": {
      "image/png": "[encoded data removed]",
      "text/plain": [
       "<Figure size 432x288 with 1 Axes>"
      ]
     },
     "metadata": {
      "needs_background": "light"
     },
     "output_type": "display_data"
    }
   ],
   "source": [
    "plt.plot(village[\"height\"],village[\"weight\"],\"yo\")\n",
    "plt.plot(village[\"height\"],pred_y, \"b-\")"
   ]
  },
  {
   "cell_type": "code",
   "execution_count": 33,
   "metadata": {},
   "outputs": [
    {
     "data": {
      "image/png": "[encoded data removed]",
      "text/plain": [
       "<Figure size 403.5x360 with 1 Axes>"
      ]
     },
     "metadata": {
      "needs_background": "light"
     },
     "output_type": "display_data"
    }
   ],
   "source": [
    "sns.lmplot(x='height', y='weight', data=village, hue='gender');"
   ]
  },
  {
   "cell_type": "code",
   "execution_count": null,
   "metadata": {},
   "outputs": [],
   "source": [
    "[2, 0.5, -1] * [1, 1, 1] -> 2+0.5-1= 1.5\n",
    "[2, 0.5, -1] * [1, 2, 4] -> 2+1-4 = -1\n",
    "[2, 0.5, -1] * [1, 4, 16]\n",
    "[2, 0.5, -1] * [1, 6, 36]\n",
    "\n"
   ]
  }
 ],
 "metadata": {
  "kernelspec": {
   "display_name": "Python 3",
   "language": "python",
   "name": "python3"
  },
  "language_info": {
   "codemirror_mode": {
    "name": "ipython",
    "version": 3
   },
   "file_extension": ".py",
   "mimetype": "text/x-python",
   "name": "python",
   "nbconvert_exporter": "python",
   "pygments_lexer": "ipython3",
   "version": "3.7.3"
  }
 },
 "nbformat": 4,
 "nbformat_minor": 2
}
